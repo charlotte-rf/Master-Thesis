{
 "cells": [
  {
   "cell_type": "code",
   "execution_count": null,
   "id": "3c941040-1aaf-4f80-be2c-0980cd58e5dd",
   "metadata": {},
   "outputs": [],
   "source": [
    "Dummy baseline models are created to emphasize the importance of more complex models like random forest. 3 different strategies are applied."
   ]
  },
  {
   "cell_type": "code",
   "execution_count": null,
   "id": "ae2ab8ca-2a45-40d6-a1f1-8c9cafc1a38d",
   "metadata": {},
   "outputs": [],
   "source": [
    "import pandas as pd\n",
    "from sklearn.model_selection import train_test_split\n",
    "from sklearn.dummy import DummyClassifier\n",
    "from sklearn.metrics import accuracy_score, precision_score, recall_score, f1_score, confusion_matrix\n",
    "import numpy as np\n",
    "import matplotlib.pyplot as plt\n",
    "from sklearn.model_selection import train_test_split, StratifiedKFold, cross_val_score\n",
    "from sklearn.metrics import make_scorer\n",
    "\n",
    "# Load the data\n",
    "AllDesc_file = '/users/file_classification_Smiles_AllDesc.txt'\n",
    "AllDesc_df = pd.read_csv(AllDesc_file)\n",
    "\n",
    "# Select features and labels\n",
    "descnm = ['MaxAbsEStateIndex', 'MaxEStateIndex', 'MinAbsEStateIndex', 'MinEStateIndex', 'qed', 'SPS', 'MolWt', \n",
    "          'HeavyAtomMolWt', 'ExactMolWt', 'NumValenceElectrons', 'NumRadicalElectrons', 'MaxPartialCharge', \n",
    "          'MinPartialCharge', 'MaxAbsPartialCharge', 'MinAbsPartialCharge', 'FpDensityMorgan1', 'FpDensityMorgan2', \n",
    "          'FpDensityMorgan3', 'AvgIpc', 'BalabanJ', 'BertzCT', 'Chi0', 'Chi0n', 'Chi0v', 'Chi1', 'Chi1n', 'Chi1v', \n",
    "          'Chi2n', 'Chi2v', 'Chi3n', 'Chi3v', 'Chi4n', 'Chi4v', 'HallKierAlpha', 'Ipc', 'Kappa1', 'Kappa2', \n",
    "          'Kappa3', 'LabuteASA', 'PEOE_VSA1', 'PEOE_VSA10', 'PEOE_VSA11', 'PEOE_VSA12', 'PEOE_VSA13', 'PEOE_VSA14', \n",
    "          'PEOE_VSA2', 'PEOE_VSA3', 'PEOE_VSA4', 'PEOE_VSA5', 'PEOE_VSA6', 'PEOE_VSA7', 'PEOE_VSA8', 'PEOE_VSA9', \n",
    "          'SMR_VSA1', 'SMR_VSA10', 'SMR_VSA2', 'SMR_VSA3', 'SMR_VSA4', 'SMR_VSA5', 'SMR_VSA6', 'SMR_VSA7', \n",
    "          'SMR_VSA8', 'SMR_VSA9', 'SlogP_VSA1', 'SlogP_VSA10', 'SlogP_VSA11', 'SlogP_VSA12', 'SlogP_VSA2', \n",
    "          'SlogP_VSA3', 'SlogP_VSA4', 'SlogP_VSA5', 'SlogP_VSA6', 'SlogP_VSA7', 'SlogP_VSA8', 'SlogP_VSA9', \n",
    "          'TPSA', 'EState_VSA1', 'EState_VSA10', 'EState_VSA11', 'EState_VSA2', 'EState_VSA3', 'EState_VSA4', \n",
    "          'EState_VSA5', 'EState_VSA6', 'EState_VSA7', 'EState_VSA8', 'EState_VSA9', 'VSA_EState1', 'VSA_EState10', \n",
    "          'VSA_EState2', 'VSA_EState3', 'VSA_EState4', 'VSA_EState5', 'VSA_EState6', 'VSA_EState7', 'VSA_EState8', \n",
    "          'VSA_EState9', 'FractionCSP3', 'HeavyAtomCount', 'NHOHCount', 'NOCount', 'NumAliphaticCarbocycles', \n",
    "          'NumAliphaticHeterocycles', 'NumAliphaticRings', 'NumAromaticCarbocycles', 'NumAromaticHeterocycles', \n",
    "          'NumAromaticRings', 'NumHAcceptors', 'NumHDonors', 'NumHeteroatoms', 'NumRotatableBonds', \n",
    "          'NumSaturatedCarbocycles', 'NumSaturatedHeterocycles', 'NumSaturatedRings', 'RingCount', 'MolLogP', \n",
    "          'MolMR', 'fr_Al_COO', 'fr_Al_OH', 'fr_Al_OH_noTert', 'fr_ArN', 'fr_Ar_COO', 'fr_Ar_N', 'fr_Ar_NH', \n",
    "          'fr_Ar_OH', 'fr_COO', 'fr_COO2', 'fr_C_O', 'fr_C_O_noCOO', 'fr_C_S', 'fr_HOCCN', 'fr_Imine', 'fr_NH0', \n",
    "          'fr_NH1', 'fr_NH2', 'fr_N_O', 'fr_Ndealkylation1', 'fr_Ndealkylation2', 'fr_Nhpyrrole', 'fr_SH', \n",
    "          'fr_aldehyde', 'fr_alkyl_carbamate', 'fr_alkyl_halide', 'fr_allylic_oxid', 'fr_amide', 'fr_amidine', \n",
    "          'fr_aniline', 'fr_aryl_methyl', 'fr_azide', 'fr_azo', 'fr_barbitur', 'fr_benzene', 'fr_benzodiazepine', \n",
    "          'fr_bicyclic', 'fr_diazo', 'fr_dihydropyridine', 'fr_epoxide', 'fr_ester', 'fr_ether', 'fr_furan', \n",
    "          'fr_guanido', 'fr_halogen', 'fr_hdrzine', 'fr_hdrzone', 'fr_imidazole', 'fr_imide', 'fr_isocyan', \n",
    "          'fr_isothiocyan', 'fr_ketone', 'fr_ketone_Topliss', 'fr_lactam', 'fr_lactone', 'fr_methoxy', \n",
    "          'fr_morpholine', 'fr_nitrile', 'fr_nitro', 'fr_nitro_arom', 'fr_nitro_arom_nonortho', 'fr_nitroso', \n",
    "          'fr_oxazole', 'fr_oxime', 'fr_para_hydroxylation', 'fr_phenol', 'fr_phenol_noOrthoHbond', 'fr_phos_acid', \n",
    "          'fr_phos_ester', 'fr_piperdine', 'fr_piperzine', 'fr_priamide', 'fr_prisulfonamd', 'fr_pyridine', 'fr_quatN', \n",
    "          'fr_sulfide', 'fr_sulfonamd', 'fr_sulfone', 'fr_term_acetylene', 'fr_tetrazole', 'fr_thiazole', \n",
    "          'fr_thiocyan', 'fr_thiophene', 'fr_unbrch_alkane', 'fr_urea']\n",
    "\n",
    "features_org = AllDesc_df[descnm]\n",
    "labels = AllDesc_df['Classification']\n",
    "\n",
    "# Split the data set (labels and features) into training set and test set \n",
    "feat_train, feat_test, label_train, label_test = train_test_split(features_org, labels, test_size=0.33, random_state=100)"
   ]
  },
  {
   "cell_type": "code",
   "execution_count": null,
   "id": "6a7aa381-726d-45b7-93ea-347cfd5f29f7",
   "metadata": {},
   "outputs": [],
   "source": [
    "#Dummy Classifier Most Frequent Method\n",
    "dummy_mf = DummyClassifier(strategy='most_frequent')\n",
    "dummy_mf.fit(features_org, labels)\n",
    "\n",
    "y_pred_mf = dummy_mf.predict(feat_test)\n",
    "accuracy_mf = accuracy_score(label_test, y_pred_mf)\n",
    "print(f\"Most frequent strategy accuracy: {accuracy_mf}\")\n",
    "\n",
    "dummy_mf.predict(feat_test)\n",
    "dummy_mf_score = dummy_mf.score(feat_train, label_train) \n",
    "print(f'Overall score on entire dataset: {dummy_mf_score}')"
   ]
  },
  {
   "cell_type": "code",
   "execution_count": null,
   "id": "6032aaa3-d620-4e5b-9667-bf1ecfd2a8a8",
   "metadata": {},
   "outputs": [],
   "source": [
    "#Dummy Classifier Uniform Method\n",
    "dummy_uni = DummyClassifier(strategy=\"uniform\")\n",
    "dummy_uni.fit(features_org, labels)\n",
    "\n",
    "y_pred_uni = dummy_uni.predict(feat_test)\n",
    "accuracy_uni = accuracy_score(label_test, y_pred_uni)\n",
    "print(f\"Uniform strategy accuracy: {accuracy_uni}\")\n",
    "\n",
    "dummy_uni.predict(feat_test)\n",
    "dummy_uni_score = dummy_uni.score(feat_train, label_train)\n",
    "print(f'Overall score on entire dataset: {dummy_uni_score}')"
   ]
  },
  {
   "cell_type": "code",
   "execution_count": null,
   "id": "f46af110-b2ac-4aa1-be12-be33d7e9f033",
   "metadata": {},
   "outputs": [],
   "source": [
    "#Dummy Classifier Constant Method - Helix Binders\n",
    "dummy_co = DummyClassifier(strategy=\"constant\", constant='Helix Binder')\n",
    "dummy_co.fit(feat_train, label_train)\n",
    "\n",
    "y_pred_constant = dummy_co.predict(feat_test)\n",
    "accuracy_constant = accuracy_score(label_test, y_pred_constant)\n",
    "print(f\"Constant strategy accuracy: {accuracy_constant}\")\n",
    "\n",
    "dummy_co.predict(feat_test)\n",
    "dummy_co_score = dummy_co.score(feat_train, label_train)\n",
    "print(f'Overall score on entire dataset: {dummy_co_score}')"
   ]
  },
  {
   "cell_type": "code",
   "execution_count": null,
   "id": "2e46d4da-640c-47c0-a3ee-466123f2ae13",
   "metadata": {},
   "outputs": [],
   "source": [
    "#Dummy Classifier Constant Method - Loop Binders\n",
    "dummy_co = DummyClassifier(strategy=\"constant\", constant='Loop Binder')\n",
    "dummy_co.fit(feat_train, label_train)\n",
    "\n",
    "y_pred_constant = dummy_co.predict(feat_test)         \n",
    "accuracy_constant = accuracy_score(label_test, y_pred_constant)\n",
    "print(f\"Constant strategy accuracy: {accuracy_constant}\")\n",
    "\n",
    "dummy_co.predict(feat_test)\n",
    "dummy_co_score = dummy_co.score(feat_train, label_train)\n",
    "print(f'Overall score on entire dataset: {dummy_co_score}')"
   ]
  }
 ],
 "metadata": {
  "kernelspec": {
   "display_name": "Python 3 (ipykernel)",
   "language": "python",
   "name": "python3"
  },
  "language_info": {
   "codemirror_mode": {
    "name": "ipython",
    "version": 3
   },
   "file_extension": ".py",
   "mimetype": "text/x-python",
   "name": "python",
   "nbconvert_exporter": "python",
   "pygments_lexer": "ipython3",
   "version": "3.12.4"
  }
 },
 "nbformat": 4,
 "nbformat_minor": 5
}
