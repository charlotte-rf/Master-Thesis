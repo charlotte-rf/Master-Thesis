{
 "cells": [
  {
   "cell_type": "raw",
   "id": "24fa9194-52df-4e2a-a806-5dab996b16b4",
   "metadata": {},
   "source": [
    "Distance calculation for PDB files through directly parsing the RCSB Protein Data Bank. No download of the PDB files necessary. "
   ]
  },
  {
   "cell_type": "raw",
   "id": "9fd36ee6-e714-4e0d-b666-3c3f68c96ab8",
   "metadata": {},
   "source": [
    "Prody has to be installed: \"pip install prody\" or as described here: http://prody.csb.pitt.edu/manual/getprody.html. "
   ]
  },
  {
   "cell_type": "code",
   "execution_count": null,
   "id": "ed4638bd-9733-4788-9318-663590dfe2ab",
   "metadata": {},
   "outputs": [],
   "source": [
    "import prody\n",
    "import numpy as np\n",
    "\n",
    "Hsp90_Inhibitors = ['5j20', '', '']\n",
    "\n",
    "file_path = '/users/file.txt'\n",
    "\n",
    "err_entries = []\n",
    "with open(file_path, \"w\") as file:\n",
    "    for pdbid in Hsp90_Inhibitors:\n",
    "        try:\n",
    "            # Read in the RCSB Protein Data Bank\n",
    "            pdb = prody.parsePDB(pdbid)\n",
    "            print(f\"Downloaded {pdbid}\")\n",
    "            \n",
    "            # Select atoms from Chain A\n",
    "            chain1_atoms = pdb.select('chain A')\n",
    "            if chain1_atoms is None:\n",
    "                raise ValueError(f\"Chain A not found in PDB {pdbid}\")\n",
    "            \n",
    "            # Select specific atoms for distance calculation\n",
    "            atoms1 = pdb.select('chain A and resnum 106 and name O')\n",
    "            atoms2 = pdb.select('chain A and resnum 110 and name N')\n",
    "            \n",
    "            if atoms1 is None or atoms2 is None:\n",
    "                raise ValueError(f\"Atoms not found in PDB {pdbid}\")\n",
    "            \n",
    "            if len(atoms1) != 1 or len(atoms2) != 1:\n",
    "                raise ValueError(f\"Selection returned more than one atom in PDB {pdbid}\")\n",
    "\n",
    "            # Get coordinates for the specified atoms\n",
    "            coords1 = atoms1.getCoords()[0]  \n",
    "            coords2 = atoms2.getCoords()[0] \n",
    "            \n",
    "            # Calculate distance\n",
    "            distance = prody.calcDistance(coords1, coords2)\n",
    "\n",
    "            #Header\n",
    "            file.write(\"PDB ID;Distance in Å\\n\")\n",
    "            \n",
    "            #Save the outcome in the txt doc\n",
    "            file.write(f\"{pdbid};{distance}\\n\")\n",
    "            print(f\"Distance between residues 106 and 110 in {pdbid}: {distance} in Å\")\n",
    "        \n",
    "        except Exception as e:\n",
    "            err_entries.append(pdbid)\n",
    "            print(f\"Error processing {pdbid}: {e}\")"
   ]
  },
  {
   "cell_type": "raw",
   "id": "7795c866-5dea-477d-95ae-63240d2495aa",
   "metadata": {},
   "source": [
    "Classification of the inhibitors with a specified distance threshold"
   ]
  },
  {
   "cell_type": "code",
   "execution_count": null,
   "id": "2c43b472-c89d-4885-b1bf-3b7a62bcb4b6",
   "metadata": {},
   "outputs": [],
   "source": [
    "import pickle\n",
    "import pandas as pd\n",
    "\n",
    "# Load data into DataFrame\n",
    "df = pd.read_csv('/users/file.txt', sep=';', header=None, names=['PDB ID', 'Distance in Å'])\n",
    "\n",
    "# Convert 'Distance in Angstrom' column to numeric format\n",
    "df['Distance in Å'] = pd.to_numeric(df['Distance in Å'], errors='coerce')\n",
    "\n",
    "# Apply classification based on thresholds\n",
    "def classify(value):\n",
    "    if value <= 4:\n",
    "        return 'Helix Binder'\n",
    "    elif 4.1 < value <= 8.0:\n",
    "        return 'Loop Binder'\n",
    "\n",
    "# Create a new column for the class labels\n",
    "df['Classification'] = df['Distance in Å'].apply(classify)\n",
    "\n",
    "# Save the DataFrame as a text file\n",
    "df.to_csv('/users/file_classification.txt', sep=';', index=False)\n",
    "\n",
    "# Display the DataFrame with the new classification\n",
    "print(df)\n",
    "\n",
    "# Count the number of each classification\n",
    "classification_counts = df['Classification'].value_counts()\n",
    "\n",
    "# Display the counts\n",
    "print(\"\\nClassification counts:\")\n",
    "print(classification_counts)"
   ]
  }
 ],
 "metadata": {
  "kernelspec": {
   "display_name": "Python 3 (ipykernel)",
   "language": "python",
   "name": "python3"
  },
  "language_info": {
   "codemirror_mode": {
    "name": "ipython",
    "version": 3
   },
   "file_extension": ".py",
   "mimetype": "text/x-python",
   "name": "python",
   "nbconvert_exporter": "python",
   "pygments_lexer": "ipython3",
   "version": "3.12.4"
  }
 },
 "nbformat": 4,
 "nbformat_minor": 5
}
